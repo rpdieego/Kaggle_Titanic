{
  "nbformat": 4,
  "nbformat_minor": 0,
  "metadata": {
    "colab": {
      "name": "Titanic_Kaggle_Competition.ipynb",
      "provenance": [],
      "authorship_tag": "ABX9TyPIXvmdFRTPc4RtYGABeOvM",
      "include_colab_link": true
    },
    "kernelspec": {
      "name": "python3",
      "display_name": "Python 3"
    }
  },
  "cells": [
    {
      "cell_type": "markdown",
      "metadata": {
        "id": "view-in-github",
        "colab_type": "text"
      },
      "source": [
        "<a href=\"https://colab.research.google.com/github/rpdieego/Kaggle_Titanic/blob/master/Titanic_Kaggle_Competition.ipynb\" target=\"_parent\"><img src=\"https://colab.research.google.com/assets/colab-badge.svg\" alt=\"Open In Colab\"/></a>"
      ]
    },
    {
      "cell_type": "markdown",
      "metadata": {
        "id": "8yi0AUsVDNGH",
        "colab_type": "text"
      },
      "source": [
        "#   Kaggle Competitions - Titanic: Machine Learning from Disaster\n",
        "\n"
      ]
    },
    {
      "cell_type": "markdown",
      "metadata": {
        "id": "h28BXHBxDsTX",
        "colab_type": "text"
      },
      "source": [
        "[Click here to check the related page on Kaggle for this challenge](https://www.kaggle.com/c/titanic)"
      ]
    },
    {
      "cell_type": "markdown",
      "metadata": {
        "id": "V2ke5CSWDMgx",
        "colab_type": "text"
      },
      "source": [
        "# Step 1 - Defining the Problem\n",
        "\n",
        "The sinking of the Titanic is one of the most infamous shipwrecks in history.\n",
        "\n",
        "On April 15, 1912, during her maiden voyage, the widely considered “unsinkable” RMS Titanic sank after colliding with an iceberg. Unfortunately, there weren’t enough lifeboats for everyone onboard, resulting in the death of 1502 out of 2224 passengers and crew.\n",
        "\n",
        "While there was some element of luck involved in surviving, it seems some groups of people were more likely to survive than others.\n",
        "\n",
        "**Goal**\n",
        "\n",
        "The goal of this challenge is to build a predictive model that answers the question: \"what sorts o people were more likely to survive to the Titanic accident?\" based on passenger data (example given: gender, socio-economic class, etc).\n",
        "\n",
        "**Performance Metrics**\n",
        "\n",
        "The score is based on the number of accurate predictions the model have got. In other words, only the accuracy of the model is considered in this challenge.\n",
        "\n"
      ]
    },
    {
      "cell_type": "markdown",
      "metadata": {
        "id": "vFX3BaePJVJ7",
        "colab_type": "text"
      },
      "source": [
        "# Step 2 - Obtaining the Data\n",
        "\n",
        "The dataset for this challenge were already provided in two different groups:\n",
        "\n",
        "\n",
        "\n",
        "*   Training Dataset (train.csv) - Used to build and train the ML model. This dataset informs if the passenger has died or not.\n",
        "\n",
        "*   Test Dataset (test.csv) - Used to validate the ML model. This dataset does not inform if the passenger has died or not.\n",
        "\n",
        "\n",
        "\n"
      ]
    },
    {
      "cell_type": "code",
      "metadata": {
        "id": "WEjXQsgFLC2h",
        "colab_type": "code",
        "outputId": "c7a06b2e-0398-4cc6-9a0d-e75852ad6e95",
        "colab": {
          "base_uri": "https://localhost:8080/",
          "height": 153
        }
      },
      "source": [
        "# import relevant libraries\n",
        "\n",
        "import pandas as pd\n",
        "import matplotlib.pyplot as plt\n",
        "import seaborn as sns\n",
        "import numpy as np\n",
        "from sklearn.linear_model import LogisticRegression\n",
        "\n",
        "# Opening the Dataframes using Pandas\n",
        "\n",
        "url_train = 'https://raw.githubusercontent.com/rpdieego/Kaggle_Titanic/master/train.csv'\n",
        "url_test = 'https://raw.githubusercontent.com/rpdieego/Kaggle_Titanic/master/test.csv'\n",
        "\n",
        "train = pd.read_csv(url_train)\n",
        "test = pd.read_csv(url_test)\n",
        "\n",
        "# Checking the dimensions of the Datasets\n",
        "\n",
        "print(\"Train Dataset \\n Variables:\\t{}\\n Inputs:\\t{}\".format(train.shape[1], train.shape[0]))\n",
        "print(\"\\n\")\n",
        "print(\"Test Dataset \\n Variables:\\t{}\\n Inputs:\\t{}\".format(test.shape[1], test.shape[0]))"
      ],
      "execution_count": 2,
      "outputs": [
        {
          "output_type": "stream",
          "text": [
            "Train Dataset \n",
            " Variables:\t12\n",
            " Inputs:\t891\n",
            "\n",
            "\n",
            "Test Dataset \n",
            " Variables:\t11\n",
            " Inputs:\t418\n"
          ],
          "name": "stdout"
        }
      ]
    },
    {
      "cell_type": "markdown",
      "metadata": {
        "id": "e6fQjXWLR63s",
        "colab_type": "text"
      },
      "source": [
        "# Step 3 - Exploring the Data\n",
        "\n",
        "**Data Dictionary**\n",
        "\n",
        "\n",
        "\n",
        "*   *Passenger ID* - Passengers Identification [**PRIMARY KEY**]\n",
        "*   *Survived* - Informs if the passenger has died or not. [**TARGET VARIABLE**]\n",
        "    *   0 = Passenger not survided\n",
        "    *   1 = Passenger survived\n",
        "*   *Pclass* - Passenger ticket class [**DISCRETE NUMERIC**]\n",
        "    *   1 = First Class (Upper Class)\n",
        "    *   2 = Second Class (Middle Class)\n",
        "    *   3 = Third Class (Lower Class)\n",
        "*   *Name* - Passenger`s name [**CATEGORIC**]\n",
        "*   *Sex* - Passenger`s sex [**CATEGORIC**]\n",
        "*   *Age* - Passenger`s age [**CONTINUOUS NUMERIC**]\n",
        "*   *SibSp* - Quantity of spouses / sibblings aboard the Titanic [**DISCRETE NUMERIC**]\n",
        "*   *Parch* - Quantity of parents / children aboard the Titanic [**DISCRETE NUMERIC**]\n",
        "*   *Ticket* - Ticket number [**CATEGORIC**]\n",
        "*   *Fare* - Passenger fare [**CONTINUOUS NUMERIC**]\n",
        "*   *Cabin* - Passenger Cabin [**CATEGORIC**]\n",
        "*   *Embarked* - Port of Embarkation [**CATEGORIC**]\n",
        "    *   C = Cherbourg\n",
        "    *   Q = Queenstown\n",
        "    *   S = Southampton\n",
        "\n",
        "\n",
        "\n",
        "\n"
      ]
    },
    {
      "cell_type": "code",
      "metadata": {
        "id": "FC752iHkVGLz",
        "colab_type": "code",
        "outputId": "a2781f62-39b8-44f4-da07-627d009e15e4",
        "colab": {
          "base_uri": "https://localhost:8080/",
          "height": 425
        }
      },
      "source": [
        "# identifying the type of each variable\n",
        "display(train.dtypes)\n",
        "\n",
        "# displaying the training dataset head\n",
        "display(train.head())"
      ],
      "execution_count": 3,
      "outputs": [
        {
          "output_type": "display_data",
          "data": {
            "text/plain": [
              "PassengerId      int64\n",
              "Survived         int64\n",
              "Pclass           int64\n",
              "Name            object\n",
              "Sex             object\n",
              "Age            float64\n",
              "SibSp            int64\n",
              "Parch            int64\n",
              "Ticket          object\n",
              "Fare           float64\n",
              "Cabin           object\n",
              "Embarked        object\n",
              "dtype: object"
            ]
          },
          "metadata": {
            "tags": []
          }
        },
        {
          "output_type": "display_data",
          "data": {
            "text/html": [
              "<div>\n",
              "<style scoped>\n",
              "    .dataframe tbody tr th:only-of-type {\n",
              "        vertical-align: middle;\n",
              "    }\n",
              "\n",
              "    .dataframe tbody tr th {\n",
              "        vertical-align: top;\n",
              "    }\n",
              "\n",
              "    .dataframe thead th {\n",
              "        text-align: right;\n",
              "    }\n",
              "</style>\n",
              "<table border=\"1\" class=\"dataframe\">\n",
              "  <thead>\n",
              "    <tr style=\"text-align: right;\">\n",
              "      <th></th>\n",
              "      <th>PassengerId</th>\n",
              "      <th>Survived</th>\n",
              "      <th>Pclass</th>\n",
              "      <th>Name</th>\n",
              "      <th>Sex</th>\n",
              "      <th>Age</th>\n",
              "      <th>SibSp</th>\n",
              "      <th>Parch</th>\n",
              "      <th>Ticket</th>\n",
              "      <th>Fare</th>\n",
              "      <th>Cabin</th>\n",
              "      <th>Embarked</th>\n",
              "    </tr>\n",
              "  </thead>\n",
              "  <tbody>\n",
              "    <tr>\n",
              "      <th>0</th>\n",
              "      <td>1</td>\n",
              "      <td>0</td>\n",
              "      <td>3</td>\n",
              "      <td>Braund, Mr. Owen Harris</td>\n",
              "      <td>male</td>\n",
              "      <td>22.0</td>\n",
              "      <td>1</td>\n",
              "      <td>0</td>\n",
              "      <td>A/5 21171</td>\n",
              "      <td>7.2500</td>\n",
              "      <td>NaN</td>\n",
              "      <td>S</td>\n",
              "    </tr>\n",
              "    <tr>\n",
              "      <th>1</th>\n",
              "      <td>2</td>\n",
              "      <td>1</td>\n",
              "      <td>1</td>\n",
              "      <td>Cumings, Mrs. John Bradley (Florence Briggs Th...</td>\n",
              "      <td>female</td>\n",
              "      <td>38.0</td>\n",
              "      <td>1</td>\n",
              "      <td>0</td>\n",
              "      <td>PC 17599</td>\n",
              "      <td>71.2833</td>\n",
              "      <td>C85</td>\n",
              "      <td>C</td>\n",
              "    </tr>\n",
              "    <tr>\n",
              "      <th>2</th>\n",
              "      <td>3</td>\n",
              "      <td>1</td>\n",
              "      <td>3</td>\n",
              "      <td>Heikkinen, Miss. Laina</td>\n",
              "      <td>female</td>\n",
              "      <td>26.0</td>\n",
              "      <td>0</td>\n",
              "      <td>0</td>\n",
              "      <td>STON/O2. 3101282</td>\n",
              "      <td>7.9250</td>\n",
              "      <td>NaN</td>\n",
              "      <td>S</td>\n",
              "    </tr>\n",
              "    <tr>\n",
              "      <th>3</th>\n",
              "      <td>4</td>\n",
              "      <td>1</td>\n",
              "      <td>1</td>\n",
              "      <td>Futrelle, Mrs. Jacques Heath (Lily May Peel)</td>\n",
              "      <td>female</td>\n",
              "      <td>35.0</td>\n",
              "      <td>1</td>\n",
              "      <td>0</td>\n",
              "      <td>113803</td>\n",
              "      <td>53.1000</td>\n",
              "      <td>C123</td>\n",
              "      <td>S</td>\n",
              "    </tr>\n",
              "    <tr>\n",
              "      <th>4</th>\n",
              "      <td>5</td>\n",
              "      <td>0</td>\n",
              "      <td>3</td>\n",
              "      <td>Allen, Mr. William Henry</td>\n",
              "      <td>male</td>\n",
              "      <td>35.0</td>\n",
              "      <td>0</td>\n",
              "      <td>0</td>\n",
              "      <td>373450</td>\n",
              "      <td>8.0500</td>\n",
              "      <td>NaN</td>\n",
              "      <td>S</td>\n",
              "    </tr>\n",
              "  </tbody>\n",
              "</table>\n",
              "</div>"
            ],
            "text/plain": [
              "   PassengerId  Survived  Pclass  ...     Fare Cabin  Embarked\n",
              "0            1         0       3  ...   7.2500   NaN         S\n",
              "1            2         1       1  ...  71.2833   C85         C\n",
              "2            3         1       3  ...   7.9250   NaN         S\n",
              "3            4         1       1  ...  53.1000  C123         S\n",
              "4            5         0       3  ...   8.0500   NaN         S\n",
              "\n",
              "[5 rows x 12 columns]"
            ]
          },
          "metadata": {
            "tags": []
          }
        }
      ]
    },
    {
      "cell_type": "markdown",
      "metadata": {
        "id": "ujbLG1bjXx31",
        "colab_type": "text"
      },
      "source": [
        "**Missing Values**\n",
        "\n",
        "Only three of the variables o the dataset have missing values:\n",
        "\n",
        "*   Cabin - ~ 77% of the values are missing\n",
        "*   Age - ~ 20% of the values are missing\n",
        "*   Embarked - ~ 0.2% of the values are missing\n"
      ]
    },
    {
      "cell_type": "code",
      "metadata": {
        "id": "mcvt_H1iWrm-",
        "colab_type": "code",
        "outputId": "3fd79cf3-9613-45f9-af14-0f0f80258ffc",
        "colab": {
          "base_uri": "https://localhost:8080/",
          "height": 238
        }
      },
      "source": [
        "# percentage o missing values\n",
        "\n",
        "(train.isnull().sum() / train.shape[0]).sort_values(ascending=False)*100"
      ],
      "execution_count": 4,
      "outputs": [
        {
          "output_type": "execute_result",
          "data": {
            "text/plain": [
              "Cabin          77.104377\n",
              "Age            19.865320\n",
              "Embarked        0.224467\n",
              "Fare            0.000000\n",
              "Ticket          0.000000\n",
              "Parch           0.000000\n",
              "SibSp           0.000000\n",
              "Sex             0.000000\n",
              "Name            0.000000\n",
              "Pclass          0.000000\n",
              "Survived        0.000000\n",
              "PassengerId     0.000000\n",
              "dtype: float64"
            ]
          },
          "metadata": {
            "tags": []
          },
          "execution_count": 4
        }
      ]
    },
    {
      "cell_type": "markdown",
      "metadata": {
        "id": "2s1-RjxdauSO",
        "colab_type": "text"
      },
      "source": [
        "**Data Distribution - Numeric Variables**\n",
        "\n"
      ]
    },
    {
      "cell_type": "code",
      "metadata": {
        "id": "dAMNv-woXRn1",
        "colab_type": "code",
        "outputId": "653b35b8-dc4e-4ca1-8df8-dbc819340019",
        "colab": {
          "base_uri": "https://localhost:8080/",
          "height": 297
        }
      },
      "source": [
        "# Statistical Description of the Data\n",
        "\n",
        "train.describe()\n"
      ],
      "execution_count": 5,
      "outputs": [
        {
          "output_type": "execute_result",
          "data": {
            "text/html": [
              "<div>\n",
              "<style scoped>\n",
              "    .dataframe tbody tr th:only-of-type {\n",
              "        vertical-align: middle;\n",
              "    }\n",
              "\n",
              "    .dataframe tbody tr th {\n",
              "        vertical-align: top;\n",
              "    }\n",
              "\n",
              "    .dataframe thead th {\n",
              "        text-align: right;\n",
              "    }\n",
              "</style>\n",
              "<table border=\"1\" class=\"dataframe\">\n",
              "  <thead>\n",
              "    <tr style=\"text-align: right;\">\n",
              "      <th></th>\n",
              "      <th>PassengerId</th>\n",
              "      <th>Survived</th>\n",
              "      <th>Pclass</th>\n",
              "      <th>Age</th>\n",
              "      <th>SibSp</th>\n",
              "      <th>Parch</th>\n",
              "      <th>Fare</th>\n",
              "    </tr>\n",
              "  </thead>\n",
              "  <tbody>\n",
              "    <tr>\n",
              "      <th>count</th>\n",
              "      <td>891.000000</td>\n",
              "      <td>891.000000</td>\n",
              "      <td>891.000000</td>\n",
              "      <td>714.000000</td>\n",
              "      <td>891.000000</td>\n",
              "      <td>891.000000</td>\n",
              "      <td>891.000000</td>\n",
              "    </tr>\n",
              "    <tr>\n",
              "      <th>mean</th>\n",
              "      <td>446.000000</td>\n",
              "      <td>0.383838</td>\n",
              "      <td>2.308642</td>\n",
              "      <td>29.699118</td>\n",
              "      <td>0.523008</td>\n",
              "      <td>0.381594</td>\n",
              "      <td>32.204208</td>\n",
              "    </tr>\n",
              "    <tr>\n",
              "      <th>std</th>\n",
              "      <td>257.353842</td>\n",
              "      <td>0.486592</td>\n",
              "      <td>0.836071</td>\n",
              "      <td>14.526497</td>\n",
              "      <td>1.102743</td>\n",
              "      <td>0.806057</td>\n",
              "      <td>49.693429</td>\n",
              "    </tr>\n",
              "    <tr>\n",
              "      <th>min</th>\n",
              "      <td>1.000000</td>\n",
              "      <td>0.000000</td>\n",
              "      <td>1.000000</td>\n",
              "      <td>0.420000</td>\n",
              "      <td>0.000000</td>\n",
              "      <td>0.000000</td>\n",
              "      <td>0.000000</td>\n",
              "    </tr>\n",
              "    <tr>\n",
              "      <th>25%</th>\n",
              "      <td>223.500000</td>\n",
              "      <td>0.000000</td>\n",
              "      <td>2.000000</td>\n",
              "      <td>20.125000</td>\n",
              "      <td>0.000000</td>\n",
              "      <td>0.000000</td>\n",
              "      <td>7.910400</td>\n",
              "    </tr>\n",
              "    <tr>\n",
              "      <th>50%</th>\n",
              "      <td>446.000000</td>\n",
              "      <td>0.000000</td>\n",
              "      <td>3.000000</td>\n",
              "      <td>28.000000</td>\n",
              "      <td>0.000000</td>\n",
              "      <td>0.000000</td>\n",
              "      <td>14.454200</td>\n",
              "    </tr>\n",
              "    <tr>\n",
              "      <th>75%</th>\n",
              "      <td>668.500000</td>\n",
              "      <td>1.000000</td>\n",
              "      <td>3.000000</td>\n",
              "      <td>38.000000</td>\n",
              "      <td>1.000000</td>\n",
              "      <td>0.000000</td>\n",
              "      <td>31.000000</td>\n",
              "    </tr>\n",
              "    <tr>\n",
              "      <th>max</th>\n",
              "      <td>891.000000</td>\n",
              "      <td>1.000000</td>\n",
              "      <td>3.000000</td>\n",
              "      <td>80.000000</td>\n",
              "      <td>8.000000</td>\n",
              "      <td>6.000000</td>\n",
              "      <td>512.329200</td>\n",
              "    </tr>\n",
              "  </tbody>\n",
              "</table>\n",
              "</div>"
            ],
            "text/plain": [
              "       PassengerId    Survived      Pclass  ...       SibSp       Parch        Fare\n",
              "count   891.000000  891.000000  891.000000  ...  891.000000  891.000000  891.000000\n",
              "mean    446.000000    0.383838    2.308642  ...    0.523008    0.381594   32.204208\n",
              "std     257.353842    0.486592    0.836071  ...    1.102743    0.806057   49.693429\n",
              "min       1.000000    0.000000    1.000000  ...    0.000000    0.000000    0.000000\n",
              "25%     223.500000    0.000000    2.000000  ...    0.000000    0.000000    7.910400\n",
              "50%     446.000000    0.000000    3.000000  ...    0.000000    0.000000   14.454200\n",
              "75%     668.500000    1.000000    3.000000  ...    1.000000    0.000000   31.000000\n",
              "max     891.000000    1.000000    3.000000  ...    8.000000    6.000000  512.329200\n",
              "\n",
              "[8 rows x 7 columns]"
            ]
          },
          "metadata": {
            "tags": []
          },
          "execution_count": 5
        }
      ]
    },
    {
      "cell_type": "code",
      "metadata": {
        "id": "n6zALsEwZp_H",
        "colab_type": "code",
        "outputId": "1c454270-29ff-4803-9c55-e34ae9b5a810",
        "colab": {
          "base_uri": "https://localhost:8080/",
          "height": 607
        }
      },
      "source": [
        "# Numerical Variables Histogram\n",
        "train.hist(figsize=(12,10));"
      ],
      "execution_count": 6,
      "outputs": [
        {
          "output_type": "display_data",
          "data": {
            "image/png": "[encoded data removed]",
            "text/plain": [
              "<Figure size 864x720 with 9 Axes>"
            ]
          },
          "metadata": {
            "tags": []
          }
        }
      ]
    },
    {
      "cell_type": "code",
      "metadata": {
        "id": "6uumAH0oaA5x",
        "colab_type": "code",
        "outputId": "a963dfcd-85a8-466f-951d-77297e3b9fc7",
        "colab": {
          "base_uri": "https://localhost:8080/",
          "height": 173
        }
      },
      "source": [
        "# Statistical Description for the Data\n",
        "\n",
        "train.describe(include=['O'])"
      ],
      "execution_count": 7,
      "outputs": [
        {
          "output_type": "execute_result",
          "data": {
            "text/html": [
              "<div>\n",
              "<style scoped>\n",
              "    .dataframe tbody tr th:only-of-type {\n",
              "        vertical-align: middle;\n",
              "    }\n",
              "\n",
              "    .dataframe tbody tr th {\n",
              "        vertical-align: top;\n",
              "    }\n",
              "\n",
              "    .dataframe thead th {\n",
              "        text-align: right;\n",
              "    }\n",
              "</style>\n",
              "<table border=\"1\" class=\"dataframe\">\n",
              "  <thead>\n",
              "    <tr style=\"text-align: right;\">\n",
              "      <th></th>\n",
              "      <th>Name</th>\n",
              "      <th>Sex</th>\n",
              "      <th>Ticket</th>\n",
              "      <th>Cabin</th>\n",
              "      <th>Embarked</th>\n",
              "    </tr>\n",
              "  </thead>\n",
              "  <tbody>\n",
              "    <tr>\n",
              "      <th>count</th>\n",
              "      <td>891</td>\n",
              "      <td>891</td>\n",
              "      <td>891</td>\n",
              "      <td>204</td>\n",
              "      <td>889</td>\n",
              "    </tr>\n",
              "    <tr>\n",
              "      <th>unique</th>\n",
              "      <td>891</td>\n",
              "      <td>2</td>\n",
              "      <td>681</td>\n",
              "      <td>147</td>\n",
              "      <td>3</td>\n",
              "    </tr>\n",
              "    <tr>\n",
              "      <th>top</th>\n",
              "      <td>Landergren, Miss. Aurora Adelia</td>\n",
              "      <td>male</td>\n",
              "      <td>1601</td>\n",
              "      <td>G6</td>\n",
              "      <td>S</td>\n",
              "    </tr>\n",
              "    <tr>\n",
              "      <th>freq</th>\n",
              "      <td>1</td>\n",
              "      <td>577</td>\n",
              "      <td>7</td>\n",
              "      <td>4</td>\n",
              "      <td>644</td>\n",
              "    </tr>\n",
              "  </tbody>\n",
              "</table>\n",
              "</div>"
            ],
            "text/plain": [
              "                                   Name   Sex Ticket Cabin Embarked\n",
              "count                               891   891    891   204      889\n",
              "unique                              891     2    681   147        3\n",
              "top     Landergren, Miss. Aurora Adelia  male   1601    G6        S\n",
              "freq                                  1   577      7     4      644"
            ]
          },
          "metadata": {
            "tags": []
          },
          "execution_count": 7
        }
      ]
    },
    {
      "cell_type": "markdown",
      "metadata": {
        "id": "UDKnkLwtc59W",
        "colab_type": "text"
      },
      "source": [
        "**General Analysis**\n",
        "\n",
        "How are the other variables related to the \"Survived\" variable?\n",
        "\n",
        "*Questions for potential hypothesis:*\n",
        "\n",
        "*   \"Women and children first!\" as we have seen in the movie really happened? Or who was closer to the emergency boats had the priority?\n",
        "*   People from higher classes had the priority to leave the sinking vessel?\n",
        "*   The city where the passenger had embarked had any influence?\n",
        "\n"
      ]
    },
    {
      "cell_type": "code",
      "metadata": {
        "id": "bYpH-ZnodjyJ",
        "colab_type": "code",
        "outputId": "cc24ffee-395f-40af-bd7d-e7e0277caf81",
        "colab": {
          "base_uri": "https://localhost:8080/",
          "height": 405
        }
      },
      "source": [
        "# Plotting graphs for variable relation analysis (Sex, Embarked and Pclass)\n",
        "\n",
        "fig, (axis1, axis2, axis3, axis4, axis5) = plt.subplots(1,5, figsize=(20,6))\n",
        "\n",
        "sns.barplot(x='Sex',y='Survived',data=train, ax=axis1, order=[\"female\",\"male\"],ci=None,palette=\"RdBu\",)\n",
        "sns.barplot(x='Embarked',y='Survived',data=train, ax=axis2,ci=None,palette=\"Paired\")\n",
        "sns.barplot(x='Pclass',y='Survived',data=train, ax=axis3,ci=None,palette=\"Paired\")\n",
        "sns.barplot(x='Parch',y='Survived',data=train, ax=axis4,ci=None,palette=\"Paired\")\n",
        "sns.barplot(x='SibSp',y='Survived',data=train, ax=axis5,ci=None,palette=\"Paired\")"
      ],
      "execution_count": 8,
      "outputs": [
        {
          "output_type": "execute_result",
          "data": {
            "text/plain": [
              "<matplotlib.axes._subplots.AxesSubplot at 0x7f4632c0f630>"
            ]
          },
          "metadata": {
            "tags": []
          },
          "execution_count": 8
        },
        {
          "output_type": "display_data",
          "data": {
            "image/png": "[encoded data removed]",
            "text/plain": [
              "<Figure size 1440x432 with 5 Axes>"
            ]
          },
          "metadata": {
            "tags": []
          }
        }
      ]
    },
    {
      "cell_type": "code",
      "metadata": {
        "id": "qyPc2wjbfMEK",
        "colab_type": "code",
        "outputId": "b738f648-3591-4ee4-fbe4-2614f8d7f782",
        "colab": {
          "base_uri": "https://localhost:8080/",
          "height": 458
        }
      },
      "source": [
        "# Plotting graphs for variable relation analysis (Age)\n",
        "\n",
        "age_survived = sns.FacetGrid(train, col='Survived', height= 6)\n",
        "age_survived.map(sns.distplot, 'Age')"
      ],
      "execution_count": 9,
      "outputs": [
        {
          "output_type": "execute_result",
          "data": {
            "text/plain": [
              "<seaborn.axisgrid.FacetGrid at 0x7f4632cf4208>"
            ]
          },
          "metadata": {
            "tags": []
          },
          "execution_count": 9
        },
        {
          "output_type": "display_data",
          "data": {
            "image/png": "[encoded data removed]",
            "text/plain": [
              "<Figure size 864x432 with 2 Axes>"
            ]
          },
          "metadata": {
            "tags": []
          }
        }
      ]
    },
    {
      "cell_type": "code",
      "metadata": {
        "id": "uEixywlOiv1t",
        "colab_type": "code",
        "outputId": "05640efc-e1d0-4cea-fc27-d34db5fffb5b",
        "colab": {
          "base_uri": "https://localhost:8080/",
          "height": 369
        }
      },
      "source": [
        "# Plotting graphs for variable relation analysis (City embarked x Class)\n",
        "\n",
        "embarked_pclass = sns.catplot(x='Pclass',col='Embarked', data=train, kind=\"count\",)"
      ],
      "execution_count": 30,
      "outputs": [
        {
          "output_type": "display_data",
          "data": {
            "image/png": "[encoded data removed]",
            "text/plain": [
              "<Figure size 1080x360 with 3 Axes>"
            ]
          },
          "metadata": {
            "tags": []
          }
        }
      ]
    },
    {
      "cell_type": "code",
      "metadata": {
        "id": "CMH0BF5XoVgm",
        "colab_type": "code",
        "colab": {
          "base_uri": "https://localhost:8080/",
          "height": 369
        },
        "outputId": "1324998e-2568-4894-aa10-3180ba407d18"
      },
      "source": [
        "# Plotting graphs for variable relation analysis (Pclass x Sex)\n",
        "\n",
        "embarked_pclass = sns.catplot(x='Pclass',col='Sex', data=train, kind=\"count\",)"
      ],
      "execution_count": 32,
      "outputs": [
        {
          "output_type": "display_data",
          "data": {
            "image/png": "[encoded data removed]",
            "text/plain": [
              "<Figure size 720x360 with 2 Axes>"
            ]
          },
          "metadata": {
            "tags": []
          }
        }
      ]
    },
    {
      "cell_type": "code",
      "metadata": {
        "id": "FXGcNK8lmFny",
        "colab_type": "code",
        "colab": {
          "base_uri": "https://localhost:8080/",
          "height": 369
        },
        "outputId": "a3b7872d-fe41-45a9-b2b4-7684b0ee5ebd"
      },
      "source": [
        "# Plotting graphs for variable relation analysis (Sex x Embarked)\n",
        "\n",
        "sex_pclass = sns.catplot(x='Embarked',col='Sex', data=train, kind=\"count\",)"
      ],
      "execution_count": 33,
      "outputs": [
        {
          "output_type": "display_data",
          "data": {
            "image/png": "[encoded data removed]",
            "text/plain": [
              "<Figure size 720x360 with 2 Axes>"
            ]
          },
          "metadata": {
            "tags": []
          }
        }
      ]
    },
    {
      "cell_type": "markdown",
      "metadata": {
        "id": "JUmU1wb9sDqb",
        "colab_type": "text"
      },
      "source": [
        "# Step 4 - Preprocessing the Data\n",
        "\n",
        "Into this step, we are going to merge both train and test dataframes in order to preprocess all the data at once.\n",
        "\n",
        "As soon as the preprocessment is done, we are going to split these dataframes once again."
      ]
    },
    {
      "cell_type": "code",
      "metadata": {
        "id": "lMvzBSvzsoHM",
        "colab_type": "code",
        "colab": {}
      },
      "source": [
        "# Saving datasets indexes\n",
        "\n",
        "train_idx = train.shape[0]\n",
        "test_idx = test.shape[0]\n",
        "\n",
        "# Saving PassengerID for Kaggle submission template\n",
        "passengerId = test['PassengerId']\n",
        "\n",
        "# Removing 'Survived' Column from train dataset before merging all the data\n",
        "target = train.Survived.copy()\n",
        "train.drop(['Survived'], axis=1, inplace=True)\n",
        "\n",
        "# Merging both datasets\n",
        "\n",
        "merged_df = pd.concat(objs=[train, test], axis=0).reset_index(drop=True)\n",
        "\n",
        "\n",
        "\n",
        "\n"
      ],
      "execution_count": 0,
      "outputs": []
    },
    {
      "cell_type": "code",
      "metadata": {
        "id": "_bxuMzi_uXQ6",
        "colab_type": "code",
        "outputId": "62de86bb-69b2-4cc0-b693-73e2d505469e",
        "colab": {
          "base_uri": "https://localhost:8080/",
          "height": 34
        }
      },
      "source": [
        "merged_df.shape"
      ],
      "execution_count": 12,
      "outputs": [
        {
          "output_type": "execute_result",
          "data": {
            "text/plain": [
              "(1309, 11)"
            ]
          },
          "metadata": {
            "tags": []
          },
          "execution_count": 12
        }
      ]
    },
    {
      "cell_type": "markdown",
      "metadata": {
        "id": "Kq1TJ9hvwhY8",
        "colab_type": "text"
      },
      "source": [
        "**Selecting Features**\n",
        "\n",
        "Some of the variables seem to add no information to our predictions, so we`re going to exclude them from our dataset:\n",
        "\n",
        "*   *PassengerID* - Just a identification, no information added\n",
        "*   *Name* - We could see that passenger register had a different name, so it`s not going to help us on our predictions\n",
        "*   *Ticket* - Relevant information from this variable shall be included in the Parch and SibSp variables\n",
        "*   *Cabin* - Relevant information from this variable shall be included in the Parch and SibSp variables\n",
        "\n",
        "\n",
        "\n"
      ]
    },
    {
      "cell_type": "code",
      "metadata": {
        "id": "sPaAPx5ix7dd",
        "colab_type": "code",
        "colab": {}
      },
      "source": [
        "# Dropping the features which we judged not to be relevant\n",
        "\n",
        "merged_df.drop(['PassengerId','Name','Ticket','Cabin'], axis=1, inplace=True)"
      ],
      "execution_count": 0,
      "outputs": []
    },
    {
      "cell_type": "markdown",
      "metadata": {
        "id": "mIx30KlLyZHk",
        "colab_type": "text"
      },
      "source": [
        "**Missing Values**\n",
        "\n",
        "We need now to deal with the missing values from the features we had chosen"
      ]
    },
    {
      "cell_type": "code",
      "metadata": {
        "id": "BkShwDN1zhKP",
        "colab_type": "code",
        "outputId": "721bd1e3-adbb-4713-c598-93295b434f4d",
        "colab": {
          "base_uri": "https://localhost:8080/",
          "height": 153
        }
      },
      "source": [
        "# Counting missing values\n",
        "\n",
        "merged_df.isnull().sum()"
      ],
      "execution_count": 14,
      "outputs": [
        {
          "output_type": "execute_result",
          "data": {
            "text/plain": [
              "Pclass        0\n",
              "Sex           0\n",
              "Age         263\n",
              "SibSp         0\n",
              "Parch         0\n",
              "Fare          1\n",
              "Embarked      2\n",
              "dtype: int64"
            ]
          },
          "metadata": {
            "tags": []
          },
          "execution_count": 14
        }
      ]
    },
    {
      "cell_type": "markdown",
      "metadata": {
        "id": "_o_4hKsB0QvU",
        "colab_type": "text"
      },
      "source": [
        "The only variables which need some action are:\n",
        "\n",
        "*   *Age* -> We are going to fill the missing values with median\n",
        "*   *Fare* -> We are going to fill the missing value with the median\n",
        "*   *Embarked* -> We are going to fill the missing value with the most frequent value"
      ]
    },
    {
      "cell_type": "code",
      "metadata": {
        "id": "bLvI3P3H1fXX",
        "colab_type": "code",
        "colab": {}
      },
      "source": [
        "# Replacing \"Age\" missing values\n",
        "\n",
        "median_age = merged_df['Age'].median()\n",
        "merged_df['Age'].fillna(median_age, inplace=True)\n",
        "\n",
        "# Replacing \"Fare\" missing values\n",
        "\n",
        "median_fare = merged_df['Fare'].median()\n",
        "merged_df['Fare'].fillna(median_fare, inplace=True)\n",
        "\n",
        "# Replacing \"Embarked\" missing values\n",
        "\n",
        "mostfreq_embarked = merged_df['Embarked'].value_counts()[:1]\n",
        "merged_df['Embarked'].fillna(mostfreq_embarked, inplace=True)\n",
        "\n"
      ],
      "execution_count": 0,
      "outputs": []
    },
    {
      "cell_type": "markdown",
      "metadata": {
        "id": "WUNyPMpc3e81",
        "colab_type": "text"
      },
      "source": [
        "**Preparing the variables for the model**\n",
        "\n",
        "As we need to work with numeric variables in our prediction model, there are two variables which some work:\n",
        "\n",
        "*   Sex -> As it has only two possible values \"male\" and \"female\", we are going to convert into '0' and '1', respectively;\n",
        "*   Embarked -> For this one, we need to create 2 Dummie Variables (As we have 3 possible values)\n",
        "\n",
        "*We should always use N-1 Dummie Variables, where N is the number of possible caterogies for the original categorical variable, in order to avoid multicolinearity in our dataset.*\n",
        "\n",
        "Please find some more information about colinearity, and how it can affect our analysis in the link below:\n",
        "\n",
        "[Multicolinearity - Difinition, Causes and Exammples](https://www.statisticshowto.datasciencecentral.com/multicollinearity/)\n",
        "\n"
      ]
    },
    {
      "cell_type": "code",
      "metadata": {
        "id": "u4gB7oic45rw",
        "colab_type": "code",
        "outputId": "934dc262-1aa1-47f5-82fb-1489efe1b3b6",
        "colab": {
          "base_uri": "https://localhost:8080/",
          "height": 204
        }
      },
      "source": [
        "# Preparing the 'Sex' variable:\n",
        "\n",
        "merged_df['Sex'] = merged_df['Sex'].map({'male' : 0, 'female' : 1})\n",
        "\n",
        "\n",
        "# Preparing the Dummie Variables for 'Embarked'\n",
        "\n",
        "embarked_dummies = pd.get_dummies(merged_df['Embarked'], prefix='Embarked', drop_first=True)\n",
        "merged_df = pd.concat([merged_df, embarked_dummies], axis=1)\n",
        "merged_df.drop('Embarked', axis=1, inplace=True)\n",
        "\n",
        "# Displaying the head of our new Dataset\n",
        "display(merged_df.head())\n"
      ],
      "execution_count": 16,
      "outputs": [
        {
          "output_type": "display_data",
          "data": {
            "text/html": [
              "<div>\n",
              "<style scoped>\n",
              "    .dataframe tbody tr th:only-of-type {\n",
              "        vertical-align: middle;\n",
              "    }\n",
              "\n",
              "    .dataframe tbody tr th {\n",
              "        vertical-align: top;\n",
              "    }\n",
              "\n",
              "    .dataframe thead th {\n",
              "        text-align: right;\n",
              "    }\n",
              "</style>\n",
              "<table border=\"1\" class=\"dataframe\">\n",
              "  <thead>\n",
              "    <tr style=\"text-align: right;\">\n",
              "      <th></th>\n",
              "      <th>Pclass</th>\n",
              "      <th>Sex</th>\n",
              "      <th>Age</th>\n",
              "      <th>SibSp</th>\n",
              "      <th>Parch</th>\n",
              "      <th>Fare</th>\n",
              "      <th>Embarked_Q</th>\n",
              "      <th>Embarked_S</th>\n",
              "    </tr>\n",
              "  </thead>\n",
              "  <tbody>\n",
              "    <tr>\n",
              "      <th>0</th>\n",
              "      <td>3</td>\n",
              "      <td>0</td>\n",
              "      <td>22.0</td>\n",
              "      <td>1</td>\n",
              "      <td>0</td>\n",
              "      <td>7.2500</td>\n",
              "      <td>0</td>\n",
              "      <td>1</td>\n",
              "    </tr>\n",
              "    <tr>\n",
              "      <th>1</th>\n",
              "      <td>1</td>\n",
              "      <td>1</td>\n",
              "      <td>38.0</td>\n",
              "      <td>1</td>\n",
              "      <td>0</td>\n",
              "      <td>71.2833</td>\n",
              "      <td>0</td>\n",
              "      <td>0</td>\n",
              "    </tr>\n",
              "    <tr>\n",
              "      <th>2</th>\n",
              "      <td>3</td>\n",
              "      <td>1</td>\n",
              "      <td>26.0</td>\n",
              "      <td>0</td>\n",
              "      <td>0</td>\n",
              "      <td>7.9250</td>\n",
              "      <td>0</td>\n",
              "      <td>1</td>\n",
              "    </tr>\n",
              "    <tr>\n",
              "      <th>3</th>\n",
              "      <td>1</td>\n",
              "      <td>1</td>\n",
              "      <td>35.0</td>\n",
              "      <td>1</td>\n",
              "      <td>0</td>\n",
              "      <td>53.1000</td>\n",
              "      <td>0</td>\n",
              "      <td>1</td>\n",
              "    </tr>\n",
              "    <tr>\n",
              "      <th>4</th>\n",
              "      <td>3</td>\n",
              "      <td>0</td>\n",
              "      <td>35.0</td>\n",
              "      <td>0</td>\n",
              "      <td>0</td>\n",
              "      <td>8.0500</td>\n",
              "      <td>0</td>\n",
              "      <td>1</td>\n",
              "    </tr>\n",
              "  </tbody>\n",
              "</table>\n",
              "</div>"
            ],
            "text/plain": [
              "   Pclass  Sex   Age  SibSp  Parch     Fare  Embarked_Q  Embarked_S\n",
              "0       3    0  22.0      1      0   7.2500           0           1\n",
              "1       1    1  38.0      1      0  71.2833           0           0\n",
              "2       3    1  26.0      0      0   7.9250           0           1\n",
              "3       1    1  35.0      1      0  53.1000           0           1\n",
              "4       3    0  35.0      0      0   8.0500           0           1"
            ]
          },
          "metadata": {
            "tags": []
          }
        }
      ]
    },
    {
      "cell_type": "markdown",
      "metadata": {
        "id": "p7LDhIsz9TU3",
        "colab_type": "text"
      },
      "source": [
        "**Splitting train and test datasets once again**\n",
        "\n",
        "As we are done with our preprocessing, we shall split once again our train and test datasets:"
      ]
    },
    {
      "cell_type": "code",
      "metadata": {
        "id": "ZwyvP-KY92eG",
        "colab_type": "code",
        "colab": {}
      },
      "source": [
        "# Splitting the datasets using the indexes we saved\n",
        "\n",
        "preprocessed_train = merged_df.iloc[:train_idx]\n",
        "preprocessed_test = merged_df.iloc[train_idx:]"
      ],
      "execution_count": 0,
      "outputs": []
    },
    {
      "cell_type": "code",
      "metadata": {
        "id": "OlscPAj8EBvY",
        "colab_type": "code",
        "outputId": "5f9d03d6-ec13-40e3-cb96-b504f263f3c3",
        "colab": {
          "base_uri": "https://localhost:8080/",
          "height": 419
        }
      },
      "source": [
        "preprocessed_train"
      ],
      "execution_count": 18,
      "outputs": [
        {
          "output_type": "execute_result",
          "data": {
            "text/html": [
              "<div>\n",
              "<style scoped>\n",
              "    .dataframe tbody tr th:only-of-type {\n",
              "        vertical-align: middle;\n",
              "    }\n",
              "\n",
              "    .dataframe tbody tr th {\n",
              "        vertical-align: top;\n",
              "    }\n",
              "\n",
              "    .dataframe thead th {\n",
              "        text-align: right;\n",
              "    }\n",
              "</style>\n",
              "<table border=\"1\" class=\"dataframe\">\n",
              "  <thead>\n",
              "    <tr style=\"text-align: right;\">\n",
              "      <th></th>\n",
              "      <th>Pclass</th>\n",
              "      <th>Sex</th>\n",
              "      <th>Age</th>\n",
              "      <th>SibSp</th>\n",
              "      <th>Parch</th>\n",
              "      <th>Fare</th>\n",
              "      <th>Embarked_Q</th>\n",
              "      <th>Embarked_S</th>\n",
              "    </tr>\n",
              "  </thead>\n",
              "  <tbody>\n",
              "    <tr>\n",
              "      <th>0</th>\n",
              "      <td>3</td>\n",
              "      <td>0</td>\n",
              "      <td>22.0</td>\n",
              "      <td>1</td>\n",
              "      <td>0</td>\n",
              "      <td>7.2500</td>\n",
              "      <td>0</td>\n",
              "      <td>1</td>\n",
              "    </tr>\n",
              "    <tr>\n",
              "      <th>1</th>\n",
              "      <td>1</td>\n",
              "      <td>1</td>\n",
              "      <td>38.0</td>\n",
              "      <td>1</td>\n",
              "      <td>0</td>\n",
              "      <td>71.2833</td>\n",
              "      <td>0</td>\n",
              "      <td>0</td>\n",
              "    </tr>\n",
              "    <tr>\n",
              "      <th>2</th>\n",
              "      <td>3</td>\n",
              "      <td>1</td>\n",
              "      <td>26.0</td>\n",
              "      <td>0</td>\n",
              "      <td>0</td>\n",
              "      <td>7.9250</td>\n",
              "      <td>0</td>\n",
              "      <td>1</td>\n",
              "    </tr>\n",
              "    <tr>\n",
              "      <th>3</th>\n",
              "      <td>1</td>\n",
              "      <td>1</td>\n",
              "      <td>35.0</td>\n",
              "      <td>1</td>\n",
              "      <td>0</td>\n",
              "      <td>53.1000</td>\n",
              "      <td>0</td>\n",
              "      <td>1</td>\n",
              "    </tr>\n",
              "    <tr>\n",
              "      <th>4</th>\n",
              "      <td>3</td>\n",
              "      <td>0</td>\n",
              "      <td>35.0</td>\n",
              "      <td>0</td>\n",
              "      <td>0</td>\n",
              "      <td>8.0500</td>\n",
              "      <td>0</td>\n",
              "      <td>1</td>\n",
              "    </tr>\n",
              "    <tr>\n",
              "      <th>...</th>\n",
              "      <td>...</td>\n",
              "      <td>...</td>\n",
              "      <td>...</td>\n",
              "      <td>...</td>\n",
              "      <td>...</td>\n",
              "      <td>...</td>\n",
              "      <td>...</td>\n",
              "      <td>...</td>\n",
              "    </tr>\n",
              "    <tr>\n",
              "      <th>886</th>\n",
              "      <td>2</td>\n",
              "      <td>0</td>\n",
              "      <td>27.0</td>\n",
              "      <td>0</td>\n",
              "      <td>0</td>\n",
              "      <td>13.0000</td>\n",
              "      <td>0</td>\n",
              "      <td>1</td>\n",
              "    </tr>\n",
              "    <tr>\n",
              "      <th>887</th>\n",
              "      <td>1</td>\n",
              "      <td>1</td>\n",
              "      <td>19.0</td>\n",
              "      <td>0</td>\n",
              "      <td>0</td>\n",
              "      <td>30.0000</td>\n",
              "      <td>0</td>\n",
              "      <td>1</td>\n",
              "    </tr>\n",
              "    <tr>\n",
              "      <th>888</th>\n",
              "      <td>3</td>\n",
              "      <td>1</td>\n",
              "      <td>28.0</td>\n",
              "      <td>1</td>\n",
              "      <td>2</td>\n",
              "      <td>23.4500</td>\n",
              "      <td>0</td>\n",
              "      <td>1</td>\n",
              "    </tr>\n",
              "    <tr>\n",
              "      <th>889</th>\n",
              "      <td>1</td>\n",
              "      <td>0</td>\n",
              "      <td>26.0</td>\n",
              "      <td>0</td>\n",
              "      <td>0</td>\n",
              "      <td>30.0000</td>\n",
              "      <td>0</td>\n",
              "      <td>0</td>\n",
              "    </tr>\n",
              "    <tr>\n",
              "      <th>890</th>\n",
              "      <td>3</td>\n",
              "      <td>0</td>\n",
              "      <td>32.0</td>\n",
              "      <td>0</td>\n",
              "      <td>0</td>\n",
              "      <td>7.7500</td>\n",
              "      <td>1</td>\n",
              "      <td>0</td>\n",
              "    </tr>\n",
              "  </tbody>\n",
              "</table>\n",
              "<p>891 rows × 8 columns</p>\n",
              "</div>"
            ],
            "text/plain": [
              "     Pclass  Sex   Age  SibSp  Parch     Fare  Embarked_Q  Embarked_S\n",
              "0         3    0  22.0      1      0   7.2500           0           1\n",
              "1         1    1  38.0      1      0  71.2833           0           0\n",
              "2         3    1  26.0      0      0   7.9250           0           1\n",
              "3         1    1  35.0      1      0  53.1000           0           1\n",
              "4         3    0  35.0      0      0   8.0500           0           1\n",
              "..      ...  ...   ...    ...    ...      ...         ...         ...\n",
              "886       2    0  27.0      0      0  13.0000           0           1\n",
              "887       1    1  19.0      0      0  30.0000           0           1\n",
              "888       3    1  28.0      1      2  23.4500           0           1\n",
              "889       1    0  26.0      0      0  30.0000           0           0\n",
              "890       3    0  32.0      0      0   7.7500           1           0\n",
              "\n",
              "[891 rows x 8 columns]"
            ]
          },
          "metadata": {
            "tags": []
          },
          "execution_count": 18
        }
      ]
    },
    {
      "cell_type": "markdown",
      "metadata": {
        "id": "r2A1yHc1-yL3",
        "colab_type": "text"
      },
      "source": [
        "# Step 5 - Building our Model\n",
        "\n"
      ]
    },
    {
      "cell_type": "markdown",
      "metadata": {
        "id": "_I1tNSdt_Rz-",
        "colab_type": "text"
      },
      "source": [
        "As our target variable is discrete numeric and has only two possible values ( '0' for not survived and '1' for survived), a logistic regression model would suit us well:"
      ]
    },
    {
      "cell_type": "code",
      "metadata": {
        "id": "Bd0BKfBS_61T",
        "colab_type": "code",
        "outputId": "27478e39-3d06-496d-deb8-bd4cf6012da8",
        "colab": {
          "base_uri": "https://localhost:8080/",
          "height": 102
        }
      },
      "source": [
        "# Creating the Logistic Regression Model\n",
        "\n",
        "lr_model = LogisticRegression(solver='liblinear')\n",
        "lr_model.fit(preprocessed_train, target)"
      ],
      "execution_count": 19,
      "outputs": [
        {
          "output_type": "execute_result",
          "data": {
            "text/plain": [
              "LogisticRegression(C=1.0, class_weight=None, dual=False, fit_intercept=True,\n",
              "                   intercept_scaling=1, l1_ratio=None, max_iter=100,\n",
              "                   multi_class='auto', n_jobs=None, penalty='l2',\n",
              "                   random_state=None, solver='liblinear', tol=0.0001, verbose=0,\n",
              "                   warm_start=False)"
            ]
          },
          "metadata": {
            "tags": []
          },
          "execution_count": 19
        }
      ]
    },
    {
      "cell_type": "code",
      "metadata": {
        "id": "Y9Izi3oHAfyV",
        "colab_type": "code",
        "outputId": "653ddd99-ca59-46b5-b4fc-0032edc2409a",
        "colab": {
          "base_uri": "https://localhost:8080/",
          "height": 51
        }
      },
      "source": [
        "# Confusion Matrix\n",
        "\n",
        "from sklearn.metrics import confusion_matrix\n",
        "from sklearn.metrics import plot_confusion_matrix\n",
        "\n",
        "y_hat = lr_model.predict(preprocessed_train)\n",
        "\n",
        "confusion_matrix(target, y_hat, labels=None, sample_weight=None, normalize= 'true')\n"
      ],
      "execution_count": 20,
      "outputs": [
        {
          "output_type": "execute_result",
          "data": {
            "text/plain": [
              "array([[0.86520947, 0.13479053],\n",
              "       [0.30116959, 0.69883041]])"
            ]
          },
          "metadata": {
            "tags": []
          },
          "execution_count": 20
        }
      ]
    },
    {
      "cell_type": "markdown",
      "metadata": {
        "id": "2SJk1ANZX2BG",
        "colab_type": "text"
      },
      "source": [
        "**Checking the Accuracy of the Model**\n",
        "\n",
        "Now, we need to check for the accuracy of our model when predicting the survivors from Titanic using the training set."
      ]
    },
    {
      "cell_type": "code",
      "metadata": {
        "id": "r0cE0R5aYu2g",
        "colab_type": "code",
        "outputId": "0e9db557-3cb3-45a1-c269-ebc0e32d24b9",
        "colab": {
          "base_uri": "https://localhost:8080/",
          "height": 34
        }
      },
      "source": [
        "# checking the accuracy\n",
        "\n",
        "acc_logReg = round(lr_model.score(preprocessed_train, target) * 100, 2)\n",
        "print(\"Accuracy of the Logistic Regression Model: {} %\".format(acc_logReg))"
      ],
      "execution_count": 21,
      "outputs": [
        {
          "output_type": "stream",
          "text": [
            "Accuracy of the Logistic Regression Model: 80.13 %\n"
          ],
          "name": "stdout"
        }
      ]
    },
    {
      "cell_type": "markdown",
      "metadata": {
        "id": "yGkVZCq2SGpt",
        "colab_type": "text"
      },
      "source": [
        "# Step 6 - Validating Our Results\n",
        "\n",
        "As the testing dataset Kaggle provided us doesn`t include the variable 'Survived', the validation is going to be madle directly by Kaggle when we submit our results in the desirable format:\n"
      ]
    },
    {
      "cell_type": "code",
      "metadata": {
        "id": "CJ1HJa9mTBxR",
        "colab_type": "code",
        "colab": {}
      },
      "source": [
        "# Generating prediction with the test dataset\n",
        "\n",
        "y_predicted = lr_model.predict(preprocessed_test)\n",
        "\n",
        "submission_df = pd.DataFrame ({\"PassengerId\": passengerId,\"Survived\": y_predicted})\n",
        "\n",
        "# Generating the .csv file for submission\n",
        "\n",
        "submission_df.to_csv('./submission.csv', index=False)"
      ],
      "execution_count": 0,
      "outputs": []
    },
    {
      "cell_type": "markdown",
      "metadata": {
        "id": "UlTJNtk7X3L3",
        "colab_type": "text"
      },
      "source": [
        "By submiting our predition into the Kaggle website, we had the the following result:\n",
        "\n",
        "![Kaggle Submission Result](https://github.com/rpdieego/Kaggle_Titanic/blob/master/Submission_Kaggle.JPG?raw=true)"
      ]
    },
    {
      "cell_type": "markdown",
      "metadata": {
        "id": "TEpiA5i1ZR4-",
        "colab_type": "text"
      },
      "source": [
        "As we can see, the accuracy of our prediction on the test dataset is quite lower than what we have reached during the training, which is quite understandable and expected.\n",
        "\n",
        "*   **Training Accuracy: 80.13 %**\n",
        "*   **Testing Accuracy: 74.64%**"
      ]
    },
    {
      "cell_type": "markdown",
      "metadata": {
        "id": "-fAkLN1Iar5o",
        "colab_type": "text"
      },
      "source": [
        "# Section 7 - Conclusions and interesting points for future projects\n",
        "\n",
        "From the given data, we have the following insights:\n",
        "\n",
        "*   The number of women which has survived to the accident were significantly higher than the number of men.\n",
        "*   The distribution of the survivor`s age tell with that peak on the left tail that children have been given priority during the rescue procedure.\n",
        "\n",
        "**Hence, the adaptation of James Cameron to the movies were not so far from the reality, right?**\n",
        "\n",
        "*   We could also see that people which were at the first and second classes had also more succes to escape from the sinking vessel, which could indicate that their cabins were closer to the escape path or some priority were given to then during the procedure. However, it`s also been shown that the third class were the most unbalanced between all of them in terms of sex distribution (approximately 70% of the passengers of the third class were male), and as the \"Women and Children first!\" procedure showed to really have happened, this hypothesis needs to be discarted.\n",
        "\n",
        "*   Also the embarking city shows to have no relevance no significant impact wheter the passenger survives or not, as the number of survivors from each city port is strongly correlated to the sex and class tickets of people whom have onboarded there.\n",
        "\n",
        "\n",
        "\n",
        "**And how could we improve our predictions results?**\n",
        "\n",
        "*74.64 % of accuracy is not bad at all, but could we have done it better?*\n",
        "\n",
        "Here are some possible procedures we could run in order to try to get higher accuracy results:\n",
        "\n",
        "*   Test some other models, as a decision tree or even a deep neural network;\n",
        "*   Standardize the numeric data during the preprocessing step;\n",
        "*   Adding or removing some features from our dataset, as 'Embarked' for example, which seems to be strongly correlated to Sex and Pclass when we look at the survivors;\n"
      ]
    }
  ]
}